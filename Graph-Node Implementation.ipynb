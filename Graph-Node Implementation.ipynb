{
 "cells": [
  {
   "cell_type": "markdown",
   "metadata": {},
   "source": [
    "# Implementation of Graph Overview[¶](https://nbviewer.jupyter.org/github/jmportilla/Python-for-Algorithms--Data-Structures--and-Interviews/blob/master/Graphs/Implementation%20of%20Graph%20Overview.ipynb#Implementation-of-Graph-Overview)\n",
    "\n",
    "In this lecture we will implement a simple graph by focusing on the Node class. Refer to this lecture for the solution to the Interview Problem\n",
    "\n",
    "----------\n",
    "\n",
    "The graph will be directed and the edges can hold weights.\n",
    "\n",
    "We will have three classes, a State class, a Node class, and finally the Graph class.\n",
    "\n",
    "We're going to be taking advantage of two built-in tools here,  [OrderDict](https://docs.python.org/2/library/collections.html#collections.OrderedDict)  and  [Enum](https://docs.python.org/3/library/enum.html)\n",
    "\n",
    "## 8.3.5. [`OrderedDict`](https://docs.python.org/2/library/collections.html#collections.OrderedDict \"collections.OrderedDict\")  objects[¶](https://docs.python.org/2/library/collections.html#ordereddict-objects \"Permalink to this headline\")\n",
    "\n",
    "Ordered dictionaries are just like regular dictionaries but they remember the order that items were inserted. When iterating over an ordered dictionary, the items are returned in the order their keys were first added.\n",
    "\n",
    "_class_ `collections.``OrderedDict`([_items_])[](https://docs.python.org/2/library/collections.html#collections.OrderedDict \"Permalink to this definition\")\n",
    "\n",
    "Return an instance of a dict subclass, supporting the usual  [`dict`](https://docs.python.org/2/library/stdtypes.html#dict \"dict\")  methods. An  _OrderedDict_  is a dict that remembers the order that keys were first inserted. If a new entry overwrites an existing entry, the original insertion position is left unchanged. Deleting an entry and reinserting it will move it to the end.\n",
    "\n",
    "New in version 2.7.\n",
    "\n",
    "`OrderedDict.``popitem`(_last=True_)[](https://docs.python.org/2/library/collections.html#collections.OrderedDict.popitem \"Permalink to this definition\")\n",
    "\n",
    "The  [`popitem()`](https://docs.python.org/2/library/collections.html#collections.OrderedDict.popitem \"collections.OrderedDict.popitem\")  method for ordered dictionaries returns and removes a (key, value) pair. The pairs are returned in LIFO order if  _last_  is true or FIFO order if false.\n",
    "\n",
    "In addition to the usual mapping methods, ordered dictionaries also support reverse iteration using  [`reversed()`](https://docs.python.org/2/library/functions.html#reversed \"reversed\").\n",
    "\n",
    "    >>> # regular unsorted dictionary\n",
    "    >>> d = {'banana': 3, 'apple': 4, 'pear': 1, 'orange': 2}\n",
    "    \n",
    "    >>> # dictionary sorted by key\n",
    "    >>> OrderedDict(sorted(d.items(), key=lambda t: t[0]))\n",
    "    OrderedDict([('apple', 4), ('banana', 3), ('orange', 2), ('pear', 1)])\n",
    "    \n",
    "    >>> # dictionary sorted by value\n",
    "    >>> OrderedDict(sorted(d.items(), key=lambda t: t[1]))\n",
    "    OrderedDict([('pear', 1), ('orange', 2), ('banana', 3), ('apple', 4)])\n",
    "    \n",
    "    >>> # dictionary sorted by length of the key string\n",
    "    >>> OrderedDict(sorted(d.items(), key=lambda t: len(t[0])))\n",
    "    OrderedDict([('pear', 1), ('apple', 4), ('orange', 2), ('banana', 3)])\n"
   ]
  },
  {
   "cell_type": "code",
   "execution_count": null,
   "metadata": {},
   "outputs": [],
   "source": []
  }
 ],
 "metadata": {
  "kernelspec": {
   "display_name": "Python 3",
   "language": "python",
   "name": "python3"
  },
  "language_info": {
   "codemirror_mode": {
    "name": "ipython",
    "version": 3
   },
   "file_extension": ".py",
   "mimetype": "text/x-python",
   "name": "python",
   "nbconvert_exporter": "python",
   "pygments_lexer": "ipython3",
   "version": "3.8.3"
  }
 },
 "nbformat": 4,
 "nbformat_minor": 4
}
